{
 "cells": [
  {
   "cell_type": "markdown",
   "metadata": {},
   "source": [
    "# This notebook includes merging operations, exporting to JSON/CSV"
   ]
  },
  {
   "cell_type": "code",
   "execution_count": 1,
   "metadata": {
    "collapsed": true
   },
   "outputs": [],
   "source": [
    "import pandas as pd"
   ]
  },
  {
   "cell_type": "code",
   "execution_count": 2,
   "metadata": {
    "collapsed": true
   },
   "outputs": [],
   "source": [
    "db_url = \"sqlite:///twitter.sqlite3\""
   ]
  },
  {
   "cell_type": "code",
   "execution_count": 3,
   "metadata": {
    "collapsed": true
   },
   "outputs": [],
   "source": [
    "users = pd.read_sql_table('users', db_url)"
   ]
  },
  {
   "cell_type": "code",
   "execution_count": 4,
   "metadata": {},
   "outputs": [
    {
     "data": {
      "text/html": [
       "<div>\n",
       "<style>\n",
       "    .dataframe thead tr:only-child th {\n",
       "        text-align: right;\n",
       "    }\n",
       "\n",
       "    .dataframe thead th {\n",
       "        text-align: left;\n",
       "    }\n",
       "\n",
       "    .dataframe tbody tr th {\n",
       "        vertical-align: top;\n",
       "    }\n",
       "</style>\n",
       "<table border=\"1\" class=\"dataframe\">\n",
       "  <thead>\n",
       "    <tr style=\"text-align: right;\">\n",
       "      <th></th>\n",
       "      <th>id</th>\n",
       "      <th>uid</th>\n",
       "      <th>name</th>\n",
       "      <th>screen_name</th>\n",
       "      <th>created_at</th>\n",
       "      <th>description</th>\n",
       "      <th>followers_count</th>\n",
       "      <th>friends_count</th>\n",
       "      <th>statuses_count</th>\n",
       "      <th>favourites_count</th>\n",
       "      <th>listed_count</th>\n",
       "      <th>geo_enabled</th>\n",
       "      <th>lang</th>\n",
       "    </tr>\n",
       "  </thead>\n",
       "  <tbody>\n",
       "    <tr>\n",
       "      <th>0</th>\n",
       "      <td>1</td>\n",
       "      <td>2287988612</td>\n",
       "      <td>#pinkpanda</td>\n",
       "      <td>apinklav</td>\n",
       "      <td>Sun Jan 12 10:46:42 +0000 2014</td>\n",
       "      <td>just apink and occasional other gg bias rts + ...</td>\n",
       "      <td>56</td>\n",
       "      <td>None</td>\n",
       "      <td>26666</td>\n",
       "      <td>54495</td>\n",
       "      <td>0</td>\n",
       "      <td>False</td>\n",
       "      <td>en</td>\n",
       "    </tr>\n",
       "    <tr>\n",
       "      <th>1</th>\n",
       "      <td>2</td>\n",
       "      <td>898708209430548480</td>\n",
       "      <td>Kei</td>\n",
       "      <td>gf9m0zn729e</td>\n",
       "      <td>Sat Aug 19 00:48:29 +0000 2017</td>\n",
       "      <td>宇宙人が地球に来て初めてこの知識を学んたら、きっと地球の知識はレベル高いな、と思うだろう。そ...</td>\n",
       "      <td>0</td>\n",
       "      <td>None</td>\n",
       "      <td>25</td>\n",
       "      <td>0</td>\n",
       "      <td>0</td>\n",
       "      <td>False</td>\n",
       "      <td>ja</td>\n",
       "    </tr>\n",
       "    <tr>\n",
       "      <th>2</th>\n",
       "      <td>3</td>\n",
       "      <td>242171738</td>\n",
       "      <td>LA〽️ARRE/FREEBANDZ</td>\n",
       "      <td>Xce11ent</td>\n",
       "      <td>Mon Jan 24 03:40:27 +0000 2011</td>\n",
       "      <td>21.</td>\n",
       "      <td>2628</td>\n",
       "      <td>None</td>\n",
       "      <td>124032</td>\n",
       "      <td>25504</td>\n",
       "      <td>11</td>\n",
       "      <td>True</td>\n",
       "      <td>en</td>\n",
       "    </tr>\n",
       "    <tr>\n",
       "      <th>3</th>\n",
       "      <td>4</td>\n",
       "      <td>3773208562</td>\n",
       "      <td>iSocialMedia.es</td>\n",
       "      <td>iSocialMedia_es</td>\n",
       "      <td>Fri Sep 25 17:16:08 +0000 2015</td>\n",
       "      <td>Cuenta Oficial @iSocialMedia_es | Compañía sta...</td>\n",
       "      <td>301273</td>\n",
       "      <td>None</td>\n",
       "      <td>7934</td>\n",
       "      <td>9389</td>\n",
       "      <td>111</td>\n",
       "      <td>False</td>\n",
       "      <td>es</td>\n",
       "    </tr>\n",
       "    <tr>\n",
       "      <th>4</th>\n",
       "      <td>5</td>\n",
       "      <td>791151948112232448</td>\n",
       "      <td>Lerinjo</td>\n",
       "      <td>Lerinjo</td>\n",
       "      <td>Wed Oct 26 05:38:18 +0000 2016</td>\n",
       "      <td>Writer</td>\n",
       "      <td>31</td>\n",
       "      <td>None</td>\n",
       "      <td>413</td>\n",
       "      <td>462</td>\n",
       "      <td>0</td>\n",
       "      <td>False</td>\n",
       "      <td>en</td>\n",
       "    </tr>\n",
       "  </tbody>\n",
       "</table>\n",
       "</div>"
      ],
      "text/plain": [
       "   id                 uid                name      screen_name  \\\n",
       "0   1          2287988612          #pinkpanda         apinklav   \n",
       "1   2  898708209430548480                 Kei      gf9m0zn729e   \n",
       "2   3           242171738  LA〽️ARRE/FREEBANDZ         Xce11ent   \n",
       "3   4          3773208562     iSocialMedia.es  iSocialMedia_es   \n",
       "4   5  791151948112232448             Lerinjo          Lerinjo   \n",
       "\n",
       "                       created_at  \\\n",
       "0  Sun Jan 12 10:46:42 +0000 2014   \n",
       "1  Sat Aug 19 00:48:29 +0000 2017   \n",
       "2  Mon Jan 24 03:40:27 +0000 2011   \n",
       "3  Fri Sep 25 17:16:08 +0000 2015   \n",
       "4  Wed Oct 26 05:38:18 +0000 2016   \n",
       "\n",
       "                                         description  followers_count  \\\n",
       "0  just apink and occasional other gg bias rts + ...               56   \n",
       "1  宇宙人が地球に来て初めてこの知識を学んたら、きっと地球の知識はレベル高いな、と思うだろう。そ...                0   \n",
       "2                                                21.             2628   \n",
       "3  Cuenta Oficial @iSocialMedia_es | Compañía sta...           301273   \n",
       "4                                             Writer               31   \n",
       "\n",
       "  friends_count  statuses_count  favourites_count  listed_count  geo_enabled  \\\n",
       "0          None           26666             54495             0        False   \n",
       "1          None              25                 0             0        False   \n",
       "2          None          124032             25504            11         True   \n",
       "3          None            7934              9389           111        False   \n",
       "4          None             413               462             0        False   \n",
       "\n",
       "  lang  \n",
       "0   en  \n",
       "1   ja  \n",
       "2   en  \n",
       "3   es  \n",
       "4   en  "
      ]
     },
     "execution_count": 4,
     "metadata": {},
     "output_type": "execute_result"
    }
   ],
   "source": [
    "users[:5]"
   ]
  },
  {
   "cell_type": "raw",
   "metadata": {},
   "source": []
  },
  {
   "cell_type": "code",
   "execution_count": 6,
   "metadata": {},
   "outputs": [
    {
     "data": {
      "text/plain": [
       "Fri Sep 09 19:45:12 +0000 2011    1\n",
       "Thu Apr 14 15:00:35 +0000 2011    1\n",
       "Sun Apr 30 12:15:39 +0000 2017    1\n",
       "Thu Dec 26 06:29:24 +0000 2013    1\n",
       "Fri Sep 01 06:54:05 +0000 2017    1\n",
       "Tue Jan 24 03:22:05 +0000 2012    1\n",
       "Fri May 29 14:36:03 +0000 2015    1\n",
       "Wed Aug 05 05:57:53 +0000 2015    1\n",
       "Thu Nov 19 12:43:12 +0000 2009    1\n",
       "Wed Jun 21 20:39:53 +0000 2017    1\n",
       "Tue Aug 18 16:35:16 +0000 2015    1\n",
       "Mon Aug 14 22:59:39 +0000 2017    1\n",
       "Sat Sep 09 02:13:26 +0000 2017    1\n",
       "Thu Oct 13 02:08:56 +0000 2011    1\n",
       "Mon Jan 19 20:33:18 +0000 2015    1\n",
       "Sat Sep 02 09:19:42 +0000 2017    1\n",
       "Mon Jan 23 04:07:41 +0000 2017    1\n",
       "Sat Sep 24 19:07:36 +0000 2016    1\n",
       "Tue Mar 20 15:00:07 +0000 2012    1\n",
       "Sat Dec 20 04:42:39 +0000 2014    1\n",
       "Sat Sep 02 05:19:02 +0000 2017    1\n",
       "Mon Jan 30 15:04:51 +0000 2017    1\n",
       "Tue Dec 08 05:41:08 +0000 2009    1\n",
       "Sun Oct 05 14:59:17 +0000 2014    1\n",
       "Wed Dec 10 09:07:38 +0000 2014    1\n",
       "Thu Apr 29 00:32:00 +0000 2010    1\n",
       "Sun Oct 20 07:41:46 +0000 2013    1\n",
       "Fri Nov 06 20:51:09 +0000 2009    1\n",
       "Mon Jan 05 23:24:00 +0000 2015    1\n",
       "Tue Oct 20 13:28:27 +0000 2009    1\n",
       "                                 ..\n",
       "Mon Aug 20 17:58:21 +0000 2012    3\n",
       "Fri Dec 02 04:24:21 +0000 2016    3\n",
       "Sat Jul 09 10:44:09 +0000 2011    3\n",
       "Sun Aug 16 02:38:23 +0000 2009    3\n",
       "Thu Mar 16 02:37:29 +0000 2017    3\n",
       "Sat Apr 04 17:47:33 +0000 2009    3\n",
       "Wed May 15 15:17:30 +0000 2013    3\n",
       "Tue Feb 12 03:18:16 +0000 2013    3\n",
       "Thu Nov 29 23:18:30 +0000 2012    3\n",
       "Thu Apr 30 02:42:51 +0000 2009    3\n",
       "Sun Apr 27 13:51:04 +0000 2014    3\n",
       "Fri Nov 11 02:05:16 +0000 2011    3\n",
       "Sun Jan 29 16:43:06 +0000 2017    3\n",
       "Thu Jul 06 19:49:23 +0000 2017    3\n",
       "Mon May 16 13:40:41 +0000 2016    3\n",
       "Tue Sep 05 02:32:08 +0000 2017    3\n",
       "Fri Oct 28 03:23:23 +0000 2016    3\n",
       "Wed Apr 24 13:26:09 +0000 2013    3\n",
       "Tue Sep 25 15:45:57 +0000 2012    3\n",
       "Thu Nov 15 20:26:28 +0000 2012    3\n",
       "Thu Mar 04 02:46:24 +0000 2010    3\n",
       "Fri Nov 21 05:46:29 +0000 2008    4\n",
       "Sun Oct 21 22:20:59 +0000 2012    4\n",
       "Tue Oct 21 07:23:04 +0000 2014    4\n",
       "Thu Jun 01 17:44:07 +0000 2017    4\n",
       "Sat Oct 25 05:43:41 +0000 2008    4\n",
       "Sun Feb 01 12:14:23 +0000 2015    5\n",
       "Tue Jul 26 20:13:04 +0000 2016    6\n",
       "Tue Mar 07 03:14:16 +0000 2017    6\n",
       "Mon Sep 29 01:22:01 +0000 2014    6\n",
       "Name: created_at, Length: 2947, dtype: int64"
      ]
     },
     "execution_count": 6,
     "metadata": {},
     "output_type": "execute_result"
    }
   ],
   "source": [
    "users.created_at.value_counts().sort_values()"
   ]
  },
  {
   "cell_type": "code",
   "execution_count": 18,
   "metadata": {},
   "outputs": [],
   "source": [
    "# Converts users.created_at series to datetime series\n",
    "users.created_at =  pd.to_datetime(users.created_at)"
   ]
  },
  {
   "cell_type": "code",
   "execution_count": 19,
   "metadata": {
    "collapsed": true
   },
   "outputs": [],
   "source": [
    "# Get start months for each user\n",
    "users['start_year'] = users.created_at.dt.year"
   ]
  },
  {
   "cell_type": "code",
   "execution_count": 20,
   "metadata": {},
   "outputs": [
    {
     "data": {
      "text/plain": [
       "start_year\n",
       "2007      6\n",
       "2008     41\n",
       "2009    200\n",
       "2010    230\n",
       "2011    310\n",
       "2012    330\n",
       "2013    274\n",
       "2014    290\n",
       "2015    378\n",
       "2016    493\n",
       "2017    580\n",
       "dtype: int64"
      ]
     },
     "execution_count": 20,
     "metadata": {},
     "output_type": "execute_result"
    }
   ],
   "source": [
    "users.groupby('start_year').size()"
   ]
  },
  {
   "cell_type": "code",
   "execution_count": 21,
   "metadata": {
    "collapsed": true
   },
   "outputs": [],
   "source": [
    "# Get start months for each user\n",
    "users['start_month'] = users.created_at.dt.month"
   ]
  },
  {
   "cell_type": "code",
   "execution_count": 26,
   "metadata": {},
   "outputs": [
    {
     "data": {
      "text/plain": [
       "1     250\n",
       "2     264\n",
       "3     261\n",
       "4     243\n",
       "5     264\n",
       "6     250\n",
       "7     294\n",
       "8     325\n",
       "9     308\n",
       "10    213\n",
       "11    230\n",
       "12    230\n",
       "Name: start_month, dtype: int64"
      ]
     },
     "execution_count": 26,
     "metadata": {},
     "output_type": "execute_result"
    }
   ],
   "source": [
    "users.start_month.value_counts().sort_index()"
   ]
  },
  {
   "cell_type": "code",
   "execution_count": 27,
   "metadata": {},
   "outputs": [
    {
     "data": {
      "text/plain": [
       "1     28\n",
       "2     27\n",
       "3     19\n",
       "4     25\n",
       "5     24\n",
       "6     22\n",
       "7     36\n",
       "8     25\n",
       "9     17\n",
       "10    21\n",
       "11    36\n",
       "12    30\n",
       "Name: start_month, dtype: int64"
      ]
     },
     "execution_count": 27,
     "metadata": {},
     "output_type": "execute_result"
    }
   ],
   "source": [
    "users[users.start_year == 2011].start_month.value_counts().sort_index()"
   ]
  },
  {
   "cell_type": "code",
   "execution_count": 28,
   "metadata": {},
   "outputs": [
    {
     "data": {
      "text/plain": [
       "1     19\n",
       "2     13\n",
       "3     20\n",
       "4     23\n",
       "5     25\n",
       "6     18\n",
       "7     23\n",
       "8     22\n",
       "9     23\n",
       "10    19\n",
       "11    14\n",
       "12    11\n",
       "Name: start_month, dtype: int64"
      ]
     },
     "execution_count": 28,
     "metadata": {},
     "output_type": "execute_result"
    }
   ],
   "source": [
    "users[users.start_year == 2010].start_month.value_counts().sort_index()"
   ]
  },
  {
   "cell_type": "code",
   "execution_count": 29,
   "metadata": {},
   "outputs": [
    {
     "data": {
      "text/plain": [
       "1      4\n",
       "2     13\n",
       "3     23\n",
       "4     32\n",
       "5     19\n",
       "6     28\n",
       "7     15\n",
       "8     16\n",
       "9     16\n",
       "10    12\n",
       "11     9\n",
       "12    13\n",
       "Name: start_month, dtype: int64"
      ]
     },
     "execution_count": 29,
     "metadata": {},
     "output_type": "execute_result"
    }
   ],
   "source": [
    "users[users.start_year == 2009].start_month.value_counts().sort_index()"
   ]
  },
  {
   "cell_type": "code",
   "execution_count": 30,
   "metadata": {},
   "outputs": [
    {
     "data": {
      "text/plain": [
       "0     136\n",
       "1     151\n",
       "2     186\n",
       "3     219\n",
       "4     150\n",
       "5     150\n",
       "6     113\n",
       "7      98\n",
       "8      95\n",
       "9      62\n",
       "10     82\n",
       "11     85\n",
       "12    106\n",
       "13    130\n",
       "14    118\n",
       "15    147\n",
       "16    132\n",
       "17    155\n",
       "18    112\n",
       "19    123\n",
       "20    152\n",
       "21    130\n",
       "22    139\n",
       "23    161\n",
       "Name: created_at, dtype: int64"
      ]
     },
     "execution_count": 30,
     "metadata": {},
     "output_type": "execute_result"
    }
   ],
   "source": [
    "users.created_at.dt.hour.value_counts().sort_index()"
   ]
  },
  {
   "cell_type": "code",
   "execution_count": 31,
   "metadata": {
    "collapsed": true
   },
   "outputs": [],
   "source": [
    "from datetime import datetime\n"
   ]
  },
  {
   "cell_type": "code",
   "execution_count": 32,
   "metadata": {
    "collapsed": true
   },
   "outputs": [],
   "source": [
    "# twitter launch datetime\n",
    "twitter_launch = datetime(2006, 3, 1)"
   ]
  },
  {
   "cell_type": "code",
   "execution_count": 33,
   "metadata": {
    "collapsed": true
   },
   "outputs": [],
   "source": [
    "# Subtract users twitter launch from the twitter launch datetime\n",
    "users['account_lag'] = users.created_at.subtract(twitter_launch)"
   ]
  },
  {
   "cell_type": "code",
   "execution_count": 35,
   "metadata": {},
   "outputs": [
    {
     "data": {
      "text/plain": [
       "0      2874 days 10:46:42\n",
       "1      4189 days 00:48:29\n",
       "2      1790 days 03:40:27\n",
       "3      3495 days 17:16:08\n",
       "4      3892 days 05:38:18\n",
       "5      1886 days 19:32:54\n",
       "6      4164 days 23:09:54\n",
       "7      3997 days 10:48:11\n",
       "8      3654 days 02:12:48\n",
       "9      1805 days 13:27:58\n",
       "10     2747 days 06:20:39\n",
       "11     1286 days 18:04:16\n",
       "12     3600 days 02:36:41\n",
       "13     4139 days 21:13:12\n",
       "14     2110 days 17:18:02\n",
       "15     2392 days 20:19:28\n",
       "16     3706 days 23:12:08\n",
       "17     3530 days 09:38:30\n",
       "18     3251 days 18:32:52\n",
       "19     3923 days 05:55:02\n",
       "20     3490 days 11:42:23\n",
       "21     2899 days 10:04:57\n",
       "22     3837 days 21:21:12\n",
       "23     3557 days 20:46:11\n",
       "24     4209 days 19:01:21\n",
       "25     2122 days 17:55:40\n",
       "26     3577 days 00:09:39\n",
       "27     1331 days 13:24:12\n",
       "28     3106 days 01:43:30\n",
       "29     3027 days 21:20:26\n",
       "              ...        \n",
       "3102   2123 days 00:43:54\n",
       "3103   2966 days 13:21:16\n",
       "3104   1906 days 05:13:03\n",
       "3105   1176 days 23:20:32\n",
       "3106   1554 days 02:21:08\n",
       "3107   1798 days 14:29:31\n",
       "3108   2172 days 18:41:27\n",
       "3109   2364 days 17:58:21\n",
       "3110   1659 days 02:45:42\n",
       "3111   4124 days 23:11:47\n",
       "3112   2307 days 19:39:46\n",
       "3113   1843 days 05:13:18\n",
       "3114   1188 days 01:14:30\n",
       "3115   2780 days 20:39:08\n",
       "3116   4143 days 17:08:32\n",
       "3117   1857 days 21:16:01\n",
       "3118   2752 days 14:29:26\n",
       "3119   3744 days 19:54:33\n",
       "3120   2599 days 08:10:36\n",
       "3121   1698 days 03:05:38\n",
       "3122   3336 days 02:13:48\n",
       "3123   3947 days 04:02:55\n",
       "3124   3922 days 16:18:38\n",
       "3125   1808 days 21:48:37\n",
       "3126   4154 days 08:21:33\n",
       "3127   2789 days 10:05:14\n",
       "3128   2211 days 00:24:58\n",
       "3129   2681 days 02:17:03\n",
       "3130   4120 days 05:57:52\n",
       "3131   1928 days 20:05:50\n",
       "Name: account_lag, Length: 3132, dtype: timedelta64[ns]"
      ]
     },
     "execution_count": 35,
     "metadata": {},
     "output_type": "execute_result"
    }
   ],
   "source": [
    "users.account_lag"
   ]
  },
  {
   "cell_type": "code",
   "execution_count": 36,
   "metadata": {},
   "outputs": [
    {
     "data": {
      "text/plain": [
       "count                         3132\n",
       "mean     2930 days 06:16:41.452107\n",
       "std       970 days 06:47:02.246894\n",
       "min              430 days 07:01:40\n",
       "25%      2125 days 23:41:58.500000\n",
       "50%      3091 days 02:05:24.500000\n",
       "75%             3833 days 01:36:51\n",
       "max             4214 days 04:11:58\n",
       "Name: account_lag, dtype: object"
      ]
     },
     "execution_count": 36,
     "metadata": {},
     "output_type": "execute_result"
    }
   ],
   "source": [
    "users.account_lag.describe()"
   ]
  },
  {
   "cell_type": "code",
   "execution_count": 38,
   "metadata": {},
   "outputs": [
    {
     "data": {
      "text/plain": [
       "539     430 days 07:01:40\n",
       "2582   4214 days 04:11:58\n",
       "Name: account_lag, dtype: timedelta64[ns]"
      ]
     },
     "execution_count": 38,
     "metadata": {},
     "output_type": "execute_result"
    }
   ],
   "source": [
    "users.account_lag.sort_values().iloc[[0, -1]]"
   ]
  },
  {
   "cell_type": "code",
   "execution_count": 39,
   "metadata": {},
   "outputs": [
    {
     "data": {
      "text/plain": [
       "Timedelta('3783 days 21:10:18')"
      ]
     },
     "execution_count": 39,
     "metadata": {},
     "output_type": "execute_result"
    }
   ],
   "source": [
    "_.iloc[1] - _.iloc[0]"
   ]
  },
  {
   "cell_type": "code",
   "execution_count": 40,
   "metadata": {
    "collapsed": true
   },
   "outputs": [],
   "source": [
    "tweets = pd.read_sql_table('tweets', db_url)"
   ]
  },
  {
   "cell_type": "code",
   "execution_count": 41,
   "metadata": {},
   "outputs": [
    {
     "data": {
      "text/plain": [
       "Index(['id', 'tid', 'tweet', 'user_id', 'coordinates', 'created_at',\n",
       "       'favorite_count', 'in_reply_to_screen_name', 'in_reply_to_status_id',\n",
       "       'in_reply_to_user_id', 'lang', 'quoted_status_id', 'retweet_count',\n",
       "       'source', 'is_retweet'],\n",
       "      dtype='object')"
      ]
     },
     "execution_count": 41,
     "metadata": {},
     "output_type": "execute_result"
    }
   ],
   "source": [
    "tweets.columns"
   ]
  },
  {
   "cell_type": "code",
   "execution_count": 42,
   "metadata": {},
   "outputs": [
    {
     "data": {
      "text/plain": [
       "Index(['id', 'uid', 'name', 'screen_name', 'created_at', 'description',\n",
       "       'followers_count', 'friends_count', 'statuses_count',\n",
       "       'favourites_count', 'listed_count', 'geo_enabled', 'lang', 'start_year',\n",
       "       'start_month', 'account_lag'],\n",
       "      dtype='object')"
      ]
     },
     "execution_count": 42,
     "metadata": {},
     "output_type": "execute_result"
    }
   ],
   "source": [
    "users.columns"
   ]
  },
  {
   "cell_type": "code",
   "execution_count": 45,
   "metadata": {},
   "outputs": [],
   "source": [
    "# Merge tweets and users dataframes [Similar to join operation on sql]\n",
    "merged_tweets = tweets.merge(users, left_on='user_id', right_on='id')"
   ]
  },
  {
   "cell_type": "code",
   "execution_count": 46,
   "metadata": {},
   "outputs": [
    {
     "data": {
      "text/plain": [
       "Index(['id_x', 'tid', 'tweet', 'user_id', 'coordinates', 'created_at_x',\n",
       "       'favorite_count', 'in_reply_to_screen_name', 'in_reply_to_status_id',\n",
       "       'in_reply_to_user_id', 'lang_x', 'quoted_status_id', 'retweet_count',\n",
       "       'source', 'is_retweet', 'id_y', 'uid', 'name', 'screen_name',\n",
       "       'created_at_y', 'description', 'followers_count', 'friends_count',\n",
       "       'statuses_count', 'favourites_count', 'listed_count', 'geo_enabled',\n",
       "       'lang_y', 'start_year', 'start_month', 'account_lag'],\n",
       "      dtype='object')"
      ]
     },
     "execution_count": 46,
     "metadata": {},
     "output_type": "execute_result"
    }
   ],
   "source": [
    "merged_tweets.columns"
   ]
  },
  {
   "cell_type": "code",
   "execution_count": 50,
   "metadata": {
    "collapsed": true
   },
   "outputs": [],
   "source": [
    "hashtag_tweet = pd.read_sql_table('hashtag_tweet', db_url)"
   ]
  },
  {
   "cell_type": "code",
   "execution_count": 51,
   "metadata": {},
   "outputs": [
    {
     "data": {
      "text/html": [
       "<div>\n",
       "<style>\n",
       "    .dataframe thead tr:only-child th {\n",
       "        text-align: right;\n",
       "    }\n",
       "\n",
       "    .dataframe thead th {\n",
       "        text-align: left;\n",
       "    }\n",
       "\n",
       "    .dataframe tbody tr th {\n",
       "        vertical-align: top;\n",
       "    }\n",
       "</style>\n",
       "<table border=\"1\" class=\"dataframe\">\n",
       "  <thead>\n",
       "    <tr style=\"text-align: right;\">\n",
       "      <th></th>\n",
       "      <th>hashtag_id</th>\n",
       "      <th>tweet_id</th>\n",
       "    </tr>\n",
       "  </thead>\n",
       "  <tbody>\n",
       "    <tr>\n",
       "      <th>0</th>\n",
       "      <td>10</td>\n",
       "      <td>7</td>\n",
       "    </tr>\n",
       "    <tr>\n",
       "      <th>1</th>\n",
       "      <td>1</td>\n",
       "      <td>7</td>\n",
       "    </tr>\n",
       "    <tr>\n",
       "      <th>2</th>\n",
       "      <td>2</td>\n",
       "      <td>7</td>\n",
       "    </tr>\n",
       "    <tr>\n",
       "      <th>3</th>\n",
       "      <td>3</td>\n",
       "      <td>7</td>\n",
       "    </tr>\n",
       "    <tr>\n",
       "      <th>4</th>\n",
       "      <td>4</td>\n",
       "      <td>7</td>\n",
       "    </tr>\n",
       "  </tbody>\n",
       "</table>\n",
       "</div>"
      ],
      "text/plain": [
       "   hashtag_id  tweet_id\n",
       "0          10         7\n",
       "1           1         7\n",
       "2           2         7\n",
       "3           3         7\n",
       "4           4         7"
      ]
     },
     "execution_count": 51,
     "metadata": {},
     "output_type": "execute_result"
    }
   ],
   "source": [
    "hashtag_tweet.head()"
   ]
  },
  {
   "cell_type": "code",
   "execution_count": 52,
   "metadata": {
    "collapsed": true
   },
   "outputs": [],
   "source": [
    "hashtags = pd.read_sql_table('hashtags', db_url)"
   ]
  },
  {
   "cell_type": "code",
   "execution_count": 53,
   "metadata": {},
   "outputs": [
    {
     "data": {
      "text/html": [
       "<div>\n",
       "<style>\n",
       "    .dataframe thead tr:only-child th {\n",
       "        text-align: right;\n",
       "    }\n",
       "\n",
       "    .dataframe thead th {\n",
       "        text-align: left;\n",
       "    }\n",
       "\n",
       "    .dataframe tbody tr th {\n",
       "        vertical-align: top;\n",
       "    }\n",
       "</style>\n",
       "<table border=\"1\" class=\"dataframe\">\n",
       "  <thead>\n",
       "    <tr style=\"text-align: right;\">\n",
       "      <th></th>\n",
       "      <th>id</th>\n",
       "      <th>text</th>\n",
       "    </tr>\n",
       "  </thead>\n",
       "  <tbody>\n",
       "    <tr>\n",
       "      <th>0</th>\n",
       "      <td>1</td>\n",
       "      <td>نشر</td>\n",
       "    </tr>\n",
       "    <tr>\n",
       "      <th>1</th>\n",
       "      <td>2</td>\n",
       "      <td>نشر_سناب</td>\n",
       "    </tr>\n",
       "    <tr>\n",
       "      <th>2</th>\n",
       "      <td>3</td>\n",
       "      <td>snapchat</td>\n",
       "    </tr>\n",
       "    <tr>\n",
       "      <th>3</th>\n",
       "      <td>4</td>\n",
       "      <td>سناب_شات</td>\n",
       "    </tr>\n",
       "    <tr>\n",
       "      <th>4</th>\n",
       "      <td>5</td>\n",
       "      <td>سنابي</td>\n",
       "    </tr>\n",
       "  </tbody>\n",
       "</table>\n",
       "</div>"
      ],
      "text/plain": [
       "   id      text\n",
       "0   1       نشر\n",
       "1   2  نشر_سناب\n",
       "2   3  snapchat\n",
       "3   4  سناب_شات\n",
       "4   5     سنابي"
      ]
     },
     "execution_count": 53,
     "metadata": {},
     "output_type": "execute_result"
    }
   ],
   "source": [
    "hashtags.head()"
   ]
  },
  {
   "cell_type": "code",
   "execution_count": 54,
   "metadata": {},
   "outputs": [
    {
     "data": {
      "text/plain": [
       "Index(['hashtag_id', 'tweet_id'], dtype='object')"
      ]
     },
     "execution_count": 54,
     "metadata": {},
     "output_type": "execute_result"
    }
   ],
   "source": [
    "hashtag_tweet.columns"
   ]
  },
  {
   "cell_type": "code",
   "execution_count": 55,
   "metadata": {},
   "outputs": [
    {
     "data": {
      "text/plain": [
       "Index(['id', 'text'], dtype='object')"
      ]
     },
     "execution_count": 55,
     "metadata": {},
     "output_type": "execute_result"
    }
   ],
   "source": [
    "hashtags.columns"
   ]
  },
  {
   "cell_type": "code",
   "execution_count": 56,
   "metadata": {
    "collapsed": true
   },
   "outputs": [],
   "source": [
    "# Merge hashtag_tweet and hashtags table (inner join)\n",
    "hashtag_tweet_merged = hashtag_tweet.merge(hashtags, left_on='hashtag_id', right_on='id')"
   ]
  },
  {
   "cell_type": "code",
   "execution_count": 57,
   "metadata": {},
   "outputs": [
    {
     "data": {
      "text/html": [
       "<div>\n",
       "<style>\n",
       "    .dataframe thead tr:only-child th {\n",
       "        text-align: right;\n",
       "    }\n",
       "\n",
       "    .dataframe thead th {\n",
       "        text-align: left;\n",
       "    }\n",
       "\n",
       "    .dataframe tbody tr th {\n",
       "        vertical-align: top;\n",
       "    }\n",
       "</style>\n",
       "<table border=\"1\" class=\"dataframe\">\n",
       "  <thead>\n",
       "    <tr style=\"text-align: right;\">\n",
       "      <th></th>\n",
       "      <th>hashtag_id</th>\n",
       "      <th>tweet_id</th>\n",
       "      <th>id</th>\n",
       "      <th>text</th>\n",
       "    </tr>\n",
       "  </thead>\n",
       "  <tbody>\n",
       "    <tr>\n",
       "      <th>0</th>\n",
       "      <td>10</td>\n",
       "      <td>7</td>\n",
       "      <td>10</td>\n",
       "      <td>فانزاتي</td>\n",
       "    </tr>\n",
       "    <tr>\n",
       "      <th>1</th>\n",
       "      <td>1</td>\n",
       "      <td>7</td>\n",
       "      <td>1</td>\n",
       "      <td>نشر</td>\n",
       "    </tr>\n",
       "    <tr>\n",
       "      <th>2</th>\n",
       "      <td>1</td>\n",
       "      <td>1375</td>\n",
       "      <td>1</td>\n",
       "      <td>نشر</td>\n",
       "    </tr>\n",
       "    <tr>\n",
       "      <th>3</th>\n",
       "      <td>2</td>\n",
       "      <td>7</td>\n",
       "      <td>2</td>\n",
       "      <td>نشر_سناب</td>\n",
       "    </tr>\n",
       "    <tr>\n",
       "      <th>4</th>\n",
       "      <td>3</td>\n",
       "      <td>7</td>\n",
       "      <td>3</td>\n",
       "      <td>snapchat</td>\n",
       "    </tr>\n",
       "  </tbody>\n",
       "</table>\n",
       "</div>"
      ],
      "text/plain": [
       "   hashtag_id  tweet_id  id      text\n",
       "0          10         7  10   فانزاتي\n",
       "1           1         7   1       نشر\n",
       "2           1      1375   1       نشر\n",
       "3           2         7   2  نشر_سناب\n",
       "4           3         7   3  snapchat"
      ]
     },
     "execution_count": 57,
     "metadata": {},
     "output_type": "execute_result"
    }
   ],
   "source": [
    "hashtag_tweet_merged.head()"
   ]
  },
  {
   "cell_type": "code",
   "execution_count": 59,
   "metadata": {},
   "outputs": [],
   "source": [
    "# Drop 'id' column for the merged data frame\n",
    "hashtag_tweet_merged.drop('id', 1, inplace=True)"
   ]
  },
  {
   "cell_type": "code",
   "execution_count": 60,
   "metadata": {},
   "outputs": [
    {
     "data": {
      "text/html": [
       "<div>\n",
       "<style>\n",
       "    .dataframe thead tr:only-child th {\n",
       "        text-align: right;\n",
       "    }\n",
       "\n",
       "    .dataframe thead th {\n",
       "        text-align: left;\n",
       "    }\n",
       "\n",
       "    .dataframe tbody tr th {\n",
       "        vertical-align: top;\n",
       "    }\n",
       "</style>\n",
       "<table border=\"1\" class=\"dataframe\">\n",
       "  <thead>\n",
       "    <tr style=\"text-align: right;\">\n",
       "      <th></th>\n",
       "      <th>hashtag_id</th>\n",
       "      <th>tweet_id</th>\n",
       "      <th>text</th>\n",
       "    </tr>\n",
       "  </thead>\n",
       "  <tbody>\n",
       "    <tr>\n",
       "      <th>0</th>\n",
       "      <td>10</td>\n",
       "      <td>7</td>\n",
       "      <td>فانزاتي</td>\n",
       "    </tr>\n",
       "    <tr>\n",
       "      <th>1</th>\n",
       "      <td>1</td>\n",
       "      <td>7</td>\n",
       "      <td>نشر</td>\n",
       "    </tr>\n",
       "    <tr>\n",
       "      <th>2</th>\n",
       "      <td>1</td>\n",
       "      <td>1375</td>\n",
       "      <td>نشر</td>\n",
       "    </tr>\n",
       "    <tr>\n",
       "      <th>3</th>\n",
       "      <td>2</td>\n",
       "      <td>7</td>\n",
       "      <td>نشر_سناب</td>\n",
       "    </tr>\n",
       "    <tr>\n",
       "      <th>4</th>\n",
       "      <td>3</td>\n",
       "      <td>7</td>\n",
       "      <td>snapchat</td>\n",
       "    </tr>\n",
       "  </tbody>\n",
       "</table>\n",
       "</div>"
      ],
      "text/plain": [
       "   hashtag_id  tweet_id      text\n",
       "0          10         7   فانزاتي\n",
       "1           1         7       نشر\n",
       "2           1      1375       نشر\n",
       "3           2         7  نشر_سناب\n",
       "4           3         7  snapchat"
      ]
     },
     "execution_count": 60,
     "metadata": {},
     "output_type": "execute_result"
    }
   ],
   "source": [
    "hashtag_tweet_merged.head()"
   ]
  },
  {
   "cell_type": "code",
   "execution_count": 64,
   "metadata": {},
   "outputs": [],
   "source": [
    "# Outer join both tweets and hashtag_tweet_merged data frame, since most of the tweets might not have hashtag\n",
    "hashtag_tweet_merged_outer = pd.merge(merged_tweets, hashtag_tweet_merged, left_on='id_x', right_on='tweet_id', how='outer')"
   ]
  },
  {
   "cell_type": "code",
   "execution_count": 65,
   "metadata": {},
   "outputs": [
    {
     "data": {
      "text/plain": [
       "Index(['id_x', 'tid', 'tweet', 'user_id', 'coordinates', 'created_at_x',\n",
       "       'favorite_count', 'in_reply_to_screen_name', 'in_reply_to_status_id',\n",
       "       'in_reply_to_user_id', 'lang_x', 'quoted_status_id', 'retweet_count',\n",
       "       'source', 'is_retweet', 'id_y', 'uid', 'name', 'screen_name',\n",
       "       'created_at_y', 'description', 'followers_count', 'friends_count',\n",
       "       'statuses_count', 'favourites_count', 'listed_count', 'geo_enabled',\n",
       "       'lang_y', 'start_year', 'start_month', 'account_lag', 'hashtag_id',\n",
       "       'tweet_id', 'text'],\n",
       "      dtype='object')"
      ]
     },
     "execution_count": 65,
     "metadata": {},
     "output_type": "execute_result"
    }
   ],
   "source": [
    "hashtag_tweet_merged_outer.columns"
   ]
  },
  {
   "cell_type": "code",
   "execution_count": 66,
   "metadata": {
    "collapsed": true
   },
   "outputs": [],
   "source": [
    "# Drop 'tweet_id' column\n",
    "hashtag_tweet_merged_outer.drop('tweet_id', 1, inplace=True)"
   ]
  },
  {
   "cell_type": "code",
   "execution_count": 67,
   "metadata": {},
   "outputs": [
    {
     "data": {
      "text/plain": [
       "Index(['id_x', 'tid', 'tweet', 'user_id', 'coordinates', 'created_at_x',\n",
       "       'favorite_count', 'in_reply_to_screen_name', 'in_reply_to_status_id',\n",
       "       'in_reply_to_user_id', 'lang_x', 'quoted_status_id', 'retweet_count',\n",
       "       'source', 'is_retweet', 'id_y', 'uid', 'name', 'screen_name',\n",
       "       'created_at_y', 'description', 'followers_count', 'friends_count',\n",
       "       'statuses_count', 'favourites_count', 'listed_count', 'geo_enabled',\n",
       "       'lang_y', 'start_year', 'start_month', 'account_lag', 'hashtag_id',\n",
       "       'text'],\n",
       "      dtype='object')"
      ]
     },
     "execution_count": 67,
     "metadata": {},
     "output_type": "execute_result"
    }
   ],
   "source": [
    "hashtag_tweet_merged_outer.columns"
   ]
  },
  {
   "cell_type": "code",
   "execution_count": 72,
   "metadata": {
    "collapsed": true
   },
   "outputs": [],
   "source": [
    "# Get the most influential user (i.e users with most number of followers)\n",
    "groupbyname = users.groupby('name')"
   ]
  },
  {
   "cell_type": "code",
   "execution_count": 73,
   "metadata": {},
   "outputs": [],
   "source": [
    "def get_most_influential_user(grouping):\n",
    "    result = []\n",
    "    for name, dataFrame in grouping:\n",
    "        count = len(dataFrame)\n",
    "        followers = dataFrame.followers_count.sum()\n",
    "        result.append({\"name\": name, \"followers\": followers, \"count\": count})\n",
    "    return pd.DataFrame(result)"
   ]
  },
  {
   "cell_type": "code",
   "execution_count": 74,
   "metadata": {
    "collapsed": true
   },
   "outputs": [],
   "source": [
    "user_followers_count = get_most_influential_user(grouping=groupbyname)"
   ]
  },
  {
   "cell_type": "code",
   "execution_count": 76,
   "metadata": {},
   "outputs": [],
   "source": [
    "user_followers_count = user_followers_count[ user_followers_count[\"count\"] > 1]"
   ]
  },
  {
   "cell_type": "code",
   "execution_count": 77,
   "metadata": {
    "collapsed": true
   },
   "outputs": [],
   "source": [
    "user_followers_count.to_json('name_influencers.json')"
   ]
  },
  {
   "cell_type": "code",
   "execution_count": 78,
   "metadata": {},
   "outputs": [
    {
     "name": "stdout",
     "output_type": "stream",
     "text": [
      " Volume in drive A is MyData\n",
      " Volume Serial Number is C214-29E7\n",
      "\n",
      " Directory of A:\\workspace\\data-analysis\\data_analysis\n",
      "\n",
      "09/13/2017  11:58 PM    <DIR>          .\n",
      "09/13/2017  11:58 PM    <DIR>          ..\n",
      "09/13/2017  10:24 PM    <DIR>          .ipynb_checkpoints\n",
      "09/13/2017  11:55 PM    <DIR>          __pycache__\n",
      "09/03/2017  09:55 PM           126,237 available.json\n",
      "09/06/2017  11:47 PM             3,636 database.py\n",
      "09/13/2017  11:58 PM             6,643 name_influencers.json\n",
      "09/03/2017  11:53 PM               302 notes.md\n",
      "09/13/2017  10:26 PM           294,075 pandas_demo.ipynb\n",
      "09/13/2017  10:26 PM             4,354 pandas_demo.py\n",
      "09/13/2017  11:57 PM            38,245 pandas_demo_extended.ipynb\n",
      "09/03/2017  09:55 PM            12,743 places_worldwide.json\n",
      "09/11/2017  11:01 PM             5,352 save_tweets.py\n",
      "09/13/2017  12:15 AM         7,444,039 tweets.json\n",
      "09/13/2017  12:31 AM         1,576,960 twitter.sqlite3\n",
      "09/06/2017  06:46 PM             2,640 twitter_data_access.py\n",
      "09/13/2017  12:26 AM             4,504 update_tweets.ipynb\n",
      "09/13/2017  12:31 AM             2,382 update_tweets.py\n",
      "              14 File(s)      9,522,112 bytes\n",
      "               4 Dir(s)  484,948,639,744 bytes free\n"
     ]
    }
   ],
   "source": [
    "%ls"
   ]
  },
  {
   "cell_type": "code",
   "execution_count": 79,
   "metadata": {
    "collapsed": true
   },
   "outputs": [],
   "source": [
    "user_followers_count.to_csv('name_influencers.csv')"
   ]
  },
  {
   "cell_type": "code",
   "execution_count": 80,
   "metadata": {},
   "outputs": [
    {
     "name": "stdout",
     "output_type": "stream",
     "text": [
      " Volume in drive A is MyData\n",
      " Volume Serial Number is C214-29E7\n",
      "\n",
      " Directory of A:\\workspace\\data-analysis\\data_analysis\n",
      "\n",
      "09/13/2017  11:58 PM    <DIR>          .\n",
      "09/13/2017  11:58 PM    <DIR>          ..\n",
      "09/13/2017  10:24 PM    <DIR>          .ipynb_checkpoints\n",
      "09/13/2017  11:55 PM    <DIR>          __pycache__\n",
      "09/03/2017  09:55 PM           126,237 available.json\n",
      "09/06/2017  11:47 PM             3,636 database.py\n",
      "09/13/2017  11:59 PM             3,614 name_influencers.csv\n",
      "09/13/2017  11:58 PM             6,643 name_influencers.json\n",
      "09/03/2017  11:53 PM               302 notes.md\n",
      "09/13/2017  10:26 PM           294,075 pandas_demo.ipynb\n",
      "09/13/2017  10:26 PM             4,354 pandas_demo.py\n",
      "09/13/2017  11:57 PM            38,245 pandas_demo_extended.ipynb\n",
      "09/03/2017  09:55 PM            12,743 places_worldwide.json\n",
      "09/11/2017  11:01 PM             5,352 save_tweets.py\n",
      "09/13/2017  12:15 AM         7,444,039 tweets.json\n",
      "09/13/2017  12:31 AM         1,576,960 twitter.sqlite3\n",
      "09/06/2017  06:46 PM             2,640 twitter_data_access.py\n",
      "09/13/2017  12:26 AM             4,504 update_tweets.ipynb\n",
      "09/13/2017  12:31 AM             2,382 update_tweets.py\n",
      "              15 File(s)      9,525,726 bytes\n",
      "               4 Dir(s)  484,948,635,648 bytes free\n"
     ]
    }
   ],
   "source": [
    "%ls"
   ]
  },
  {
   "cell_type": "code",
   "execution_count": null,
   "metadata": {
    "collapsed": true
   },
   "outputs": [],
   "source": []
  }
 ],
 "metadata": {
  "kernelspec": {
   "display_name": "Python 3",
   "language": "python",
   "name": "python3"
  },
  "language_info": {
   "codemirror_mode": {
    "name": "ipython",
    "version": 3
   },
   "file_extension": ".py",
   "mimetype": "text/x-python",
   "name": "python",
   "nbconvert_exporter": "python",
   "pygments_lexer": "ipython3",
   "version": "3.6.2"
  }
 },
 "nbformat": 4,
 "nbformat_minor": 2
}
