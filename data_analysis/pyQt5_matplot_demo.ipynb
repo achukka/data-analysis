{
 "cells": [
  {
   "cell_type": "code",
   "execution_count": 1,
   "metadata": {},
   "outputs": [],
   "source": [
    "import sys\n",
    "from PyQt5 import QtWidgets, QtCore"
   ]
  },
  {
   "cell_type": "code",
   "execution_count": 2,
   "metadata": {},
   "outputs": [],
   "source": [
    "from matplotlib.backends.backend_qt5agg import FigureCanvas\n",
    "from matplotlib.backends.backend_qt5agg import NavigationToolbar2QT"
   ]
  },
  {
   "cell_type": "code",
   "execution_count": 3,
   "metadata": {},
   "outputs": [],
   "source": [
    "import matplotlib.pyplot as plt\n",
    "import numpy as np"
   ]
  },
  {
   "cell_type": "code",
   "execution_count": 4,
   "metadata": {},
   "outputs": [],
   "source": [
    "# Creates an QApplication with given name\n",
    "def createApp(name):\n",
    "    return QtWidgets.QApplication(name)\n",
    "    \n",
    "# Creates a MainWindow with given title\n",
    "def createMainWindow(title):    \n",
    "    main_window = QtWidgets.QMainWindow()\n",
    "    main_window.setWindowTitle(title)\n",
    "    return main_window"
   ]
  },
  {
   "cell_type": "code",
   "execution_count": 5,
   "metadata": {},
   "outputs": [],
   "source": [
    "# The main function\n",
    "def main():\n",
    "    app = createApp(['My App'])\n",
    "    # Uncomment below line (if you're not using notebook)\n",
    "    # app = createApp(sys.argv)\n",
    "    mainWindow = createMainWindow('Matplotlib Example')    \n",
    "        \n",
    "    centralWidget = TabWidget()    \n",
    "    mainWindow.setCentralWidget(centralWidget)\n",
    "    \n",
    "    mainWindow.show()\n",
    "    app.exec_()"
   ]
  },
  {
   "cell_type": "code",
   "execution_count": 6,
   "metadata": {},
   "outputs": [],
   "source": [
    "# Define a TabWidget class which is a subclass of QTabWidget\n",
    "class TabWidget(QtWidgets.QTabWidget):\n",
    "    def __init__(self, parent=None):\n",
    "        super().__init__(parent)\n",
    "        # We'll add tabs here using the 'addTab' method\n",
    "        graphWidget = GraphWidget()\n",
    "        xyScatterWidget = XYScatterGraphWidget()\n",
    "        pieGraphWidget = PieGraphWidget()\n",
    "        barGraphWidget = BarGraphWidget()\n",
    "        \n",
    "        self.addTab(graphWidget, 'Line Graph')\n",
    "        self.addTab(xyScatterWidget, 'Scatter Graph')\n",
    "        self.addTab(pieGraphWidget, 'Pie Graph')        \n",
    "        self.addTab(barGraphWidget, 'Bar Graph')"
   ]
  },
  {
   "cell_type": "code",
   "execution_count": 7,
   "metadata": {},
   "outputs": [],
   "source": [
    "# Define a GraphWidget class which is a subclass of QWidget\n",
    "class GraphWidget(QtWidgets.QWidget):\n",
    "    def __init__(self, parent=None):\n",
    "        super().__init__(parent)\n",
    "        self._counter = 0        \n",
    "        self._sig_counter = 0\n",
    "        \n",
    "        self._figure = plt.Figure()\n",
    "        \n",
    "        # Create a canvas from the figure\n",
    "        self._canvas = FigureCanvas(self._figure)\n",
    "        \n",
    "        # Create a toolbar for the canvas\n",
    "        toolbar = NavigationToolbar2QT(self._canvas, self)\n",
    "        \n",
    "        # Create a plot button\n",
    "        plt_button = QtWidgets.QPushButton('Plot!')\n",
    "        # You can view our self.plot as a custom slot\n",
    "        plt_button.clicked.connect(self.plot)\n",
    "        \n",
    "        # Now, we'll create a layout(a vertical one) for controlling the above widgets\n",
    "        layout = QtWidgets.QVBoxLayout()\n",
    "        layout.addWidget(toolbar)\n",
    "        layout.addWidget(self._canvas)\n",
    "        layout.addWidget(plt_button)\n",
    "        \n",
    "        # Attach the layout to the base(graph widget)\n",
    "        self.setLayout(layout)\n",
    "        \n",
    "        # plot the data\n",
    "        self.plot()\n",
    "        \n",
    "        # Connects the slot to the above signal\n",
    "        self.rand_signal.connect(self.rand_slot)\n",
    "        # Trigger it manually\n",
    "        self._sig_counter += 1\n",
    "        self.rand_signal.emit('Hola!', self._sig_counter, True)\n",
    "        \n",
    "    # Let us create a custom signal\n",
    "    rand_signal = QtCore.pyqtSignal(str, int, bool) # Args to the signal\n",
    "    ''''' I don't know why, but the signal should not be placed inside the init function '''''\n",
    "    \n",
    "    # Create a corresponding slot for the signal\n",
    "    @QtCore.pyqtSlot(str, int, bool) #Decorator\n",
    "    def rand_slot(self, string, integer, boolean, *args, **kwargs):\n",
    "        # Lets us just print the values received\n",
    "        print(string, integer, boolean)\n",
    "        \n",
    "        \n",
    "    # Helper method to plot the data into graph\n",
    "    def plot(self):\n",
    "        self._counter +=1\n",
    "        data = np.random.rand(30)\n",
    "        axes = self._figure.add_subplot(111)\n",
    "        # Clear the axes\n",
    "        #axes.clear()\n",
    "        axes.set_yscale('log')\n",
    "        axes.set_xlim(-1, 10)\n",
    "        axes.set_ylim(-1, 5)\n",
    "        axes.set_xlabel('X-Label')\n",
    "        axes.set_ylabel('Y-Label')\n",
    "        axes.legend(loc='best')\n",
    "        axes.set_title('A 2d-Line Plot')\n",
    "        axes.plot(data, 'o-', label='Plot '+ str(self._counter))\n",
    "        self.update_canvas()\n",
    "        \n",
    "        self._sig_counter +=1\n",
    "        self.rand_signal.emit('Hola!', self._sig_counter, True)\n",
    "        \n",
    "        \n",
    "    # Helper method to update the canvas\n",
    "    def update_canvas(self):\n",
    "        self._canvas.draw()\n",
    "        \n",
    "    # Signals and slots are used for communication between events\n",
    "    "
   ]
  },
  {
   "cell_type": "code",
   "execution_count": 8,
   "metadata": {},
   "outputs": [],
   "source": [
    "# Create a Scatter Graph Widget class that inherits the GraphWidget\n",
    "class XYScatterGraphWidget(GraphWidget):\n",
    "    # redefine plot function\n",
    "    def plot(self):\n",
    "        axes = self._figure.add_subplot(111)\n",
    "        axes.clear()\n",
    "        \n",
    "        n = 100\n",
    "        x, y = np.random.rand(n), np.random.rand(n)\n",
    "        \n",
    "        #Get random colors\n",
    "        colors = np.random.rand(n)\n",
    "        \n",
    "        axes.set_yscale('log')\n",
    "        axes.set_xlim(-1, 5)\n",
    "        axes.set_ylim(-1, 5)\n",
    "        axes.set_xlabel('X-Label')\n",
    "        axes.set_ylabel('Y-Label')\n",
    "        axes.legend(loc='best')\n",
    "        axes.set_title('A 2d-Scatter Plot')        \n",
    "        area = np.pi * (10 * np.random.rand(n))**2 \n",
    "        axes.scatter(x, y, s=area, c=colors, alpha=0.5, label='Random places')\n",
    "        self.update_canvas()"
   ]
  },
  {
   "cell_type": "code",
   "execution_count": 9,
   "metadata": {},
   "outputs": [],
   "source": [
    "# Create a Pie Graph Widget class that inherits the GraphWidget\n",
    "class PieGraphWidget(GraphWidget):\n",
    "    # redefine plot function\n",
    "    def plot(self):\n",
    "        labels = ['Eaten', 'NotEaten', 'Eat_Next']\n",
    "        n = len(labels)        \n",
    "        data = np.random.rand(n) * 100\n",
    "        \n",
    "        # Control how percentage is displayed\n",
    "        autopct = '%1.1f%%'\n",
    "        colors = np.random.rand(n, 4)\n",
    "        explode = np.zeros(n)\n",
    "        # Set the last piece\n",
    "        explode[-1] = 0.1\n",
    "        \n",
    "        # Get axes from the figure\n",
    "        axes = self._figure.add_subplot(111)\n",
    "        axes.clear()\n",
    "        axes.legend(loc='best')\n",
    "        axes.set_title('A 2d-Pie Chart')\n",
    "        \n",
    "        axes.pie(data, explode=explode, labels=labels, colors=colors, autopct=autopct, shadow=True, startangle=90)\n",
    "        self.update_canvas()"
   ]
  },
  {
   "cell_type": "code",
   "execution_count": null,
   "metadata": {},
   "outputs": [],
   "source": [
    "# Create a Bar Graph Widget class that inherits the GraphWidget\n",
    "class BarGraphWidget(GraphWidget):\n",
    "    # redefine plot function\n",
    "    def plot(self):\n",
    "        n = 10\n",
    "        y = np.random.rand(n) * 100\n",
    "        x = range(n)\n",
    "        width = 1/1.5        \n",
    "        \n",
    "        # Get axes from the figure\n",
    "        axes = self._figure.add_subplot(111)\n",
    "        axes.clear()\n",
    "        axes.set_xlabel('X-Label')\n",
    "        axes.set_ylabel('Y-Label')\n",
    "        axes.legend(loc='best')\n",
    "        axes.set_title('A 2d-Bar Plot')\n",
    "        axes.bar(x, y, width, color='orange', label='A set of histograms')\n",
    "        self.update_canvas()"
   ]
  },
  {
   "cell_type": "code",
   "execution_count": null,
   "metadata": {},
   "outputs": [
    {
     "name": "stderr",
     "output_type": "stream",
     "text": [
      "/usr/local/lib/python3.6/site-packages/matplotlib/axes/_axes.py:545: UserWarning: No labelled objects found. Use label='...' kwarg on individual plots.\n",
      "  warnings.warn(\"No labelled objects found. \"\n"
     ]
    },
    {
     "name": "stdout",
     "output_type": "stream",
     "text": [
      "Hola! 2 True\n",
      "Hola! 1 True\n",
      "Hola! 1 True\n",
      "Hola! 1 True\n"
     ]
    }
   ],
   "source": [
    "if __name__ == \"__main__\":\n",
    "    main()"
   ]
  },
  {
   "cell_type": "code",
   "execution_count": null,
   "metadata": {},
   "outputs": [],
   "source": []
  },
  {
   "cell_type": "code",
   "execution_count": null,
   "metadata": {},
   "outputs": [],
   "source": []
  }
 ],
 "metadata": {
  "kernelspec": {
   "display_name": "Python 3",
   "language": "python",
   "name": "python3"
  },
  "language_info": {
   "codemirror_mode": {
    "name": "ipython",
    "version": 3
   },
   "file_extension": ".py",
   "mimetype": "text/x-python",
   "name": "python",
   "nbconvert_exporter": "python",
   "pygments_lexer": "ipython3",
   "version": "3.6.2"
  }
 },
 "nbformat": 4,
 "nbformat_minor": 2
}
